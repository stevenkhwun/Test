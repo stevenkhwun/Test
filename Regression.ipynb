{
 "cells": [
  {
   "cell_type": "markdown",
   "id": "47c28c02-7a20-4c28-8dd0-7fc5979a7969",
   "metadata": {},
   "source": [
    "# A Jupyter Notebook in R\n",
    "## Created under JupyterLab"
   ]
  },
  {
   "cell_type": "code",
   "execution_count": 8,
   "id": "b6f7999d-3e79-457f-8e09-7ba2b23e7685",
   "metadata": {},
   "outputs": [],
   "source": [
    "y <- c(41,58,67)\n",
    "x <- c(1,2,3)"
   ]
  },
  {
   "cell_type": "code",
   "execution_count": 9,
   "id": "6d1d35eb-7bd0-44ab-be7c-40ddbc5b508e",
   "metadata": {},
   "outputs": [],
   "source": [
    "model <- lm(y ~ x)"
   ]
  },
  {
   "cell_type": "code",
   "execution_count": 10,
   "id": "c237a118-4a0e-43a0-bc37-9f05c794291e",
   "metadata": {},
   "outputs": [
    {
     "data": {
      "text/plain": [
       "\n",
       "Call:\n",
       "lm(formula = y ~ x)\n",
       "\n",
       "Coefficients:\n",
       "(Intercept)            x  \n",
       "      29.33        13.00  \n"
      ]
     },
     "metadata": {},
     "output_type": "display_data"
    }
   ],
   "source": [
    "model"
   ]
  },
  {
   "cell_type": "code",
   "execution_count": 11,
   "id": "b0fc2b20-d2cb-4a79-ab5e-6e5d343c175c",
   "metadata": {},
   "outputs": [
    {
     "data": {
      "text/plain": [
       "\n",
       "Call:\n",
       "lm(formula = y ~ x)\n",
       "\n",
       "Residuals:\n",
       "     1      2      3 \n",
       "-1.333  2.667 -1.333 \n",
       "\n",
       "Coefficients:\n",
       "            Estimate Std. Error t value Pr(>|t|)\n",
       "(Intercept)   29.333      4.989   5.880    0.107\n",
       "x             13.000      2.309   5.629    0.112\n",
       "\n",
       "Residual standard error: 3.266 on 1 degrees of freedom\n",
       "Multiple R-squared:  0.9694,\tAdjusted R-squared:  0.9388 \n",
       "F-statistic: 31.69 on 1 and 1 DF,  p-value: 0.1119\n"
      ]
     },
     "metadata": {},
     "output_type": "display_data"
    }
   ],
   "source": [
    "summary(model)"
   ]
  },
  {
   "cell_type": "code",
   "execution_count": null,
   "id": "051d2325-d9d0-4091-9bee-92da385d784f",
   "metadata": {},
   "outputs": [],
   "source": []
  }
 ],
 "metadata": {
  "kernelspec": {
   "display_name": "R",
   "language": "R",
   "name": "ir"
  },
  "language_info": {
   "codemirror_mode": "r",
   "file_extension": ".r",
   "mimetype": "text/x-r-source",
   "name": "R",
   "pygments_lexer": "r",
   "version": "4.2.1"
  }
 },
 "nbformat": 4,
 "nbformat_minor": 5
}
